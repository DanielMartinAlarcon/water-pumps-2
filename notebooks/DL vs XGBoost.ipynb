{
 "cells": [
  {
   "cell_type": "code",
   "execution_count": 2,
   "metadata": {},
   "outputs": [],
   "source": [
    "import pandas as pd\n",
    "import numpy as np\n",
    "import matplotlib.pyplot as plt\n",
    "import sklearn\n",
    "from sklearn.preprocessing import RobustScaler\n",
    "pd.set_option('display.max_columns', None)  # Unlimited columns\n",
    "from fastai.tabular import *"
   ]
  },
  {
   "cell_type": "code",
   "execution_count": 3,
   "metadata": {},
   "outputs": [
    {
     "data": {
      "text/plain": [
       "'/home/ec2-user/SageMaker/water-pumps-2/notebooks'"
      ]
     },
     "execution_count": 3,
     "metadata": {},
     "output_type": "execute_result"
    }
   ],
   "source": [
    "pwd"
   ]
  },
  {
   "cell_type": "code",
   "execution_count": 4,
   "metadata": {},
   "outputs": [],
   "source": [
    "# data_path = '/app/data/raw/'\n",
    "data_path = '/home/ec2-user/SageMaker/water-pumps-2/data/raw/'"
   ]
  },
  {
   "cell_type": "code",
   "execution_count": 5,
   "metadata": {},
   "outputs": [],
   "source": [
    "X_test = pd.read_csv(data_path + 'test_features.csv')\n",
    "X_train = pd.read_csv(data_path + 'train_features.csv')\n",
    "y_train = pd.read_csv(data_path + 'train_labels.csv')"
   ]
  },
  {
   "cell_type": "code",
   "execution_count": 6,
   "metadata": {},
   "outputs": [],
   "source": [
    "def wrangle(X):\n",
    "    \"\"\"\n",
    "    All-inclusive data cleanup.\n",
    "    \"\"\"\n",
    " \n",
    "    # Make a clean copy, to ensure we're not changing the original DF\n",
    "    X = X.copy()\n",
    "    \n",
    "    # Looking at all the features with missing values, it looks like those\n",
    "    # features are all categorical variables where 'unknown' would be a\n",
    "    # category we can work with.  I'll replace the NANs accordingly.\n",
    "    X = X.fillna('unknown')\n",
    "    \n",
    "    # Regression on dates won't work.  Instead, I'll turn the \n",
    "    # date_recorded column into the number of years since 2000\n",
    "    # (the earliest date in the training date is from ~2002, and the\n",
    "    # latest from 2013.)\n",
    "    dates = pd.to_datetime(X.date_recorded)\n",
    "    year2000 = pd.to_datetime('2000-01-01')\n",
    "    years = [i.days/365 for i in (dates - year2000)]\n",
    "    X.date_recorded = years\n",
    "    \n",
    "    # region_code and district_code are int64, but they should really be\n",
    "    # treated as categories (and there's only 20-30 classes in each).\n",
    "    # I'll cast them as strings instead.\n",
    "    X.region_code = X.region_code.astype('str')\n",
    "    X.district_code = X.district_code.astype('str')\n",
    "      \n",
    "    # To prevent data conversion warnings, I'll turn all the numerical\n",
    "    # features (except id) into float64.\n",
    "    \n",
    "    # Also, some columns contained bool values and NANs.  \n",
    "    # (e.g., public_meeting, permit)\n",
    "    # I replaced the NANs with strings, which created a problem for later\n",
    "    # operations that don't like heterogeneous datatypes within a single\n",
    "    # column. I'll prevent this problem by casting those two features as str.\n",
    "    \n",
    "    type_dict = {'amount_tsh':'float64',\n",
    "                 'date_recorded':'float64',\n",
    "                 'gps_height':'float64',\n",
    "                 'longitude':'float64',\n",
    "                 'latitude':'float64',\n",
    "                 'num_private':'float64',\n",
    "                 'population':'float64',\n",
    "                 'construction_year':'float64',\n",
    "                 'public_meeting':'str',\n",
    "                 'permit':'str'}\n",
    "    \n",
    "    X = X.astype(dtype = type_dict)\n",
    "    \n",
    "    # Fixing the numerical columns.\n",
    "    # ---------------------------------------------------------------    \n",
    "    \n",
    "    # Numerical columns have several kinds of garbage values that \n",
    "    # Must be replaced with nulls.\n",
    "    numericals = ['amount_tsh',\n",
    "                    'date_recorded',\n",
    "                    'gps_height',\n",
    "                    'longitude',\n",
    "                    'latitude',\n",
    "                    'num_private',\n",
    "                    'population',\n",
    "                    'construction_year']\n",
    "\n",
    "    null_values = {'amount_tsh':0,\n",
    "                     'date_recorded':0,\n",
    "                     'gps_height':0,\n",
    "                     'longitude':0,\n",
    "                     'latitude':-2.000000e-08,\n",
    "                     'num_private':0,\n",
    "                     'population':0,\n",
    "                     'construction_year':0}\n",
    "\n",
    "    # I replace all garbage values with NANs.\n",
    "    for feature, null in null_values.items():\n",
    "        X[feature] = X[feature].replace(null, np.nan)\n",
    "    \n",
    "    # construction_year occasionally claims years far in the future, and \n",
    "    # could presumably also contain years way in the past.  I'll turn anything\n",
    "    # not between 1960 and 2019 into a NAN.\n",
    "    X['construction_year'] = [i if 1960 < i < 2019 else np.nan for i in X['construction_year']]\n",
    "\n",
    "    \n",
    "    # Whenever available, a good replacement value for a NAN is the \n",
    "    # mean or median value for the geographic region around it.\n",
    "\n",
    "    # Replaces the NANs in a ward with the mean of the other rows in that \n",
    "    # same ward. If all the rows in a ward are NANs, though, they remain.\n",
    "    for feature in numericals:\n",
    "        replacements = X.groupby('ward')[feature].transform('mean')\n",
    "        X[feature] = X[feature].fillna(replacements)\n",
    "\n",
    "    # Replaces the NANs in a region with the mean of the other rows in that \n",
    "    # same region (which are much larger than wards)\n",
    "    for feature in numericals:\n",
    "        replacements = X.groupby('region')[feature].transform('mean')\n",
    "        X[feature] = X[feature].fillna(replacements)\n",
    "    \n",
    "    # A few rows are not helped by averaging over the ward or the region.\n",
    "    # Those can stay as they are, with NANs.\n",
    "    \n",
    "    # Fixing the categorical columns.\n",
    "    # ---------------------------------------------------------------    \n",
    "    \n",
    "    # Create list of categorical features\n",
    "    categoricals = X.select_dtypes(exclude='number').columns.tolist()\n",
    "\n",
    "    # Make all strings lowercase, to collapse together some of the categories\n",
    "    X[categoricals] = X[categoricals].applymap(lambda x: x.lower())\n",
    "\n",
    "    # Replace common NAN values\n",
    "    nan_list = ['not known','unknown','none','-','##','not kno','unknown installer']\n",
    "    X = X.replace(nan_list, np.nan)\n",
    "\n",
    "    # Any feature values with fewer than 50 rows gets turned into a NAN\n",
    "    for feature in X[categoricals]:\n",
    "        # Determine which feature values to keep\n",
    "        to_keep = X[feature].value_counts()[X[feature].value_counts() > 50].index.tolist()\n",
    "        # Turn those into NANs (using a copy, to prevent warnings)\n",
    "        feature_copy = X[feature].copy()\n",
    "        feature_copy[~feature_copy.isin(to_keep)] = np.nan\n",
    "        X[feature] = feature_copy\n",
    "    \n",
    "    \n",
    "    garbage = ['id','extraction_type_group','extraction_type_class',\n",
    "               'region_code','waterpoint_type_group','source_type',\n",
    "              'payment_type','quality_group','quantity_group',\n",
    "              'recorded_by']\n",
    "    \n",
    "    X = X.drop(columns=garbage)\n",
    "    \n",
    "    X['age'] = X['date_recorded'] - X['construction_year']\n",
    "    \n",
    "    return X"
   ]
  },
  {
   "cell_type": "code",
   "execution_count": 7,
   "metadata": {},
   "outputs": [],
   "source": [
    "X_train = wrangle(X_train)\n",
    "X_test = wrangle(X_test)"
   ]
  },
  {
   "cell_type": "markdown",
   "metadata": {},
   "source": [
    "# Default embeddings"
   ]
  },
  {
   "cell_type": "code",
   "execution_count": 53,
   "metadata": {},
   "outputs": [],
   "source": [
    "train = X_train.copy()\n",
    "train['y'] = y_train['status_group']"
   ]
  },
  {
   "cell_type": "code",
   "execution_count": 54,
   "metadata": {},
   "outputs": [],
   "source": [
    "dep_var = 'y'\n",
    "cat_names = X_train.select_dtypes(exclude='number').columns.tolist()\n",
    "cont_names = X_train.select_dtypes('number').columns.tolist()\n",
    "procs = [FillMissing, Categorify, Normalize] \n",
    "\n",
    "test = TabularList.from_df(X_test, \n",
    "                           cat_names=cat_names, \n",
    "                           cont_names=cont_names)\n",
    "\n",
    "data = (TabularList.from_df(train, \n",
    "                            cat_names=cat_names, \n",
    "                            cont_names=cont_names, \n",
    "                            procs=procs)\n",
    "                           .split_by_idx(list(range(50000,59400)))\n",
    "                           .label_from_df(cols=dep_var)\n",
    "                           .add_test(test)\n",
    "                           .databunch())"
   ]
  },
  {
   "cell_type": "code",
   "execution_count": 66,
   "metadata": {},
   "outputs": [
    {
     "data": {
      "text/plain": [
       "TabularModel(\n",
       "  (embeds): ModuleList(\n",
       "    (0): Embedding(143, 26)\n",
       "    (1): Embedding(126, 24)\n",
       "    (2): Embedding(36, 12)\n",
       "    (3): Embedding(10, 6)\n",
       "    (4): Embedding(61, 16)\n",
       "    (5): Embedding(22, 9)\n",
       "    (6): Embedding(18, 8)\n",
       "    (7): Embedding(124, 24)\n",
       "    (8): Embedding(309, 40)\n",
       "    (9): Embedding(3, 3)\n",
       "    (10): Embedding(12, 6)\n",
       "    (11): Embedding(87, 20)\n",
       "    (12): Embedding(3, 3)\n",
       "    (13): Embedding(16, 8)\n",
       "    (14): Embedding(12, 6)\n",
       "    (15): Embedding(5, 4)\n",
       "    (16): Embedding(7, 5)\n",
       "    (17): Embedding(7, 5)\n",
       "    (18): Embedding(5, 4)\n",
       "    (19): Embedding(10, 6)\n",
       "    (20): Embedding(3, 3)\n",
       "    (21): Embedding(7, 5)\n",
       "    (22): Embedding(3, 3)\n",
       "  )\n",
       "  (emb_drop): Dropout(p=0.0, inplace=False)\n",
       "  (bn_cont): BatchNorm1d(9, eps=1e-05, momentum=0.1, affine=True, track_running_stats=True)\n",
       "  (layers): Sequential(\n",
       "    (0): Linear(in_features=255, out_features=200, bias=True)\n",
       "    (1): ReLU(inplace=True)\n",
       "    (2): BatchNorm1d(200, eps=1e-05, momentum=0.1, affine=True, track_running_stats=True)\n",
       "    (3): Linear(in_features=200, out_features=100, bias=True)\n",
       "    (4): ReLU(inplace=True)\n",
       "    (5): BatchNorm1d(100, eps=1e-05, momentum=0.1, affine=True, track_running_stats=True)\n",
       "    (6): Linear(in_features=100, out_features=3, bias=True)\n",
       "  )\n",
       ")"
      ]
     },
     "execution_count": 66,
     "metadata": {},
     "output_type": "execute_result"
    }
   ],
   "source": [
    "learn.model"
   ]
  },
  {
   "cell_type": "code",
   "execution_count": 55,
   "metadata": {},
   "outputs": [
    {
     "data": {
      "text/html": [],
      "text/plain": [
       "<IPython.core.display.HTML object>"
      ]
     },
     "metadata": {},
     "output_type": "display_data"
    },
    {
     "name": "stdout",
     "output_type": "stream",
     "text": [
      "LR Finder is complete, type {learner_name}.recorder.plot() to see the graph.\n"
     ]
    },
    {
     "data": {
      "image/png": "[encoded data removed]",
      "text/plain": [
       "<Figure size 432x288 with 1 Axes>"
      ]
     },
     "metadata": {
      "needs_background": "light"
     },
     "output_type": "display_data"
    }
   ],
   "source": [
    "learn = tabular_learner(data, layers=[200,100], metrics=accuracy)\n",
    "learn.lr_find()\n",
    "learn.recorder.plot()"
   ]
  },
  {
   "cell_type": "code",
   "execution_count": 56,
   "metadata": {},
   "outputs": [
    {
     "data": {
      "text/html": [
       "<table border=\"1\" class=\"dataframe\">\n",
       "  <thead>\n",
       "    <tr style=\"text-align: left;\">\n",
       "      <th>epoch</th>\n",
       "      <th>train_loss</th>\n",
       "      <th>valid_loss</th>\n",
       "      <th>accuracy</th>\n",
       "      <th>time</th>\n",
       "    </tr>\n",
       "  </thead>\n",
       "  <tbody>\n",
       "    <tr>\n",
       "      <td>0</td>\n",
       "      <td>0.594301</td>\n",
       "      <td>0.581946</td>\n",
       "      <td>0.757553</td>\n",
       "      <td>00:22</td>\n",
       "    </tr>\n",
       "    <tr>\n",
       "      <td>1</td>\n",
       "      <td>0.567364</td>\n",
       "      <td>0.542184</td>\n",
       "      <td>0.781808</td>\n",
       "      <td>00:26</td>\n",
       "    </tr>\n",
       "    <tr>\n",
       "      <td>2</td>\n",
       "      <td>0.497569</td>\n",
       "      <td>0.526949</td>\n",
       "      <td>0.787447</td>\n",
       "      <td>00:24</td>\n",
       "    </tr>\n",
       "  </tbody>\n",
       "</table>"
      ],
      "text/plain": [
       "<IPython.core.display.HTML object>"
      ]
     },
     "metadata": {},
     "output_type": "display_data"
    }
   ],
   "source": [
    "learn.fit_one_cycle(3, max_lr=1e-2) # Steepest point on the downward slope"
   ]
  },
  {
   "cell_type": "code",
   "execution_count": 57,
   "metadata": {},
   "outputs": [
    {
     "data": {
      "image/png": "[encoded data removed]",
      "text/plain": [
       "<Figure size 432x288 with 1 Axes>"
      ]
     },
     "metadata": {
      "needs_background": "light"
     },
     "output_type": "display_data"
    }
   ],
   "source": [
    "learn.recorder.plot_losses()\n",
    "learn.save('stage1-3y')"
   ]
  },
  {
   "cell_type": "markdown",
   "metadata": {},
   "source": [
    "# xgboost"
   ]
  },
  {
   "cell_type": "code",
   "execution_count": 11,
   "metadata": {},
   "outputs": [],
   "source": [
    "def get_proc_df(tll):\n",
    "    \"\"\"Get processed xs and ys from a tabular `LabelList` with a single value for label such as FloatList.\n",
    "       For example from `TabularDataBunch.train_ds`.\n",
    "       :param tll: A tabular `LabelList`. \n",
    "       :returns: A tuple of `(x,y)` where `x` is a pandas `DataFrame` and `y` is a numpy array.\n",
    "    \"\"\"\n",
    "    x_vals = np.concatenate([tll.x.codes, tll.x.conts], axis=1)\n",
    "    x_cols = tll.x.cat_names + tll.x.cont_names\n",
    "    x_df = pd.DataFrame(data=x_vals, columns=x_cols)[\n",
    "            [c for c in tll.inner_df.columns if c in x_cols] ] # Retain order\n",
    "    # Reconstruct ys to apply log if specified\n",
    "    y_vals = np.array([i.obj for i in tll.y])\n",
    "    return x_df, y_vals"
   ]
  },
  {
   "cell_type": "code",
   "execution_count": 12,
   "metadata": {},
   "outputs": [],
   "source": [
    "X_train_processed, y_train_processed = get_proc_df(data.train_ds)\n",
    "X_valid_processed, y_valid_processed = get_proc_df(data.valid_ds)"
   ]
  },
  {
   "cell_type": "code",
   "execution_count": 145,
   "metadata": {},
   "outputs": [],
   "source": [
    "from xgboost import XGBClassifier\n",
    "\n",
    "modelxgb = XGBClassifier(objective = 'multi:softmax', booster = 'gbtree', \n",
    "                         nrounds = 'min.error.idx', num_class = 3, \n",
    "                         maximize = False, eval_metric = 'merror', eta = .1,\n",
    "                         max_depth = 14, colsample_bytree = .4, n_jobs=-1)"
   ]
  },
  {
   "cell_type": "code",
   "execution_count": 146,
   "metadata": {},
   "outputs": [
    {
     "name": "stdout",
     "output_type": "stream",
     "text": [
      "CPU times: user 1min 3s, sys: 5.37 s, total: 1min 8s\n",
      "Wall time: 44.1 s\n"
     ]
    },
    {
     "data": {
      "text/plain": [
       "XGBClassifier(base_score=0.5, booster='gbtree', colsample_bylevel=1,\n",
       "              colsample_bynode=1, colsample_bytree=0.4, eta=0.1,\n",
       "              eval_metric='merror', gamma=0, learning_rate=0.1,\n",
       "              max_delta_step=0, max_depth=14, maximize=False,\n",
       "              min_child_weight=1, missing=None, n_estimators=100, n_jobs=-1,\n",
       "              nrounds='min.error.idx', nthread=None, num_class=3,\n",
       "              objective='multi:softprob', random_state=0, reg_alpha=0,\n",
       "              reg_lambda=1, scale_pos_weight=1, seed=None, silent=None,\n",
       "              subsample=1, verbosity=1)"
      ]
     },
     "execution_count": 146,
     "metadata": {},
     "output_type": "execute_result"
    }
   ],
   "source": [
    "%%time\n",
    "modelxgb.fit(X_train_processed, y_train_processed)"
   ]
  },
  {
   "cell_type": "code",
   "execution_count": 151,
   "metadata": {},
   "outputs": [],
   "source": [
    "from sklearn.metrics import accuracy_score\n",
    "y_pred = modelxgb.predict(X_valid_processed)"
   ]
  },
  {
   "cell_type": "code",
   "execution_count": 152,
   "metadata": {},
   "outputs": [],
   "source": [
    "score = accuracy_score(y_valid_processed, y_pred)"
   ]
  },
  {
   "cell_type": "code",
   "execution_count": 153,
   "metadata": {},
   "outputs": [
    {
     "data": {
      "text/plain": [
       "0.8181914893617022"
      ]
     },
     "execution_count": 153,
     "metadata": {},
     "output_type": "execute_result"
    }
   ],
   "source": [
    "score"
   ]
  },
  {
   "cell_type": "code",
   "execution_count": 156,
   "metadata": {},
   "outputs": [],
   "source": [
    "from sklearn.model_selection import cross_val_score\n",
    "cv_score = cross_val_score(modelxgb, X_train_processed, y_train_processed, scoring='accuracy', cv=5)"
   ]
  },
  {
   "cell_type": "code",
   "execution_count": 158,
   "metadata": {},
   "outputs": [
    {
     "data": {
      "text/plain": [
       "0.8123198792403988"
      ]
     },
     "execution_count": 158,
     "metadata": {},
     "output_type": "execute_result"
    }
   ],
   "source": [
    "cv_score.mean()"
   ]
  },
  {
   "cell_type": "markdown",
   "metadata": {},
   "source": [
    "# Custom embeddings"
   ]
  },
  {
   "cell_type": "code",
   "execution_count": 10,
   "metadata": {},
   "outputs": [],
   "source": [
    "dep_var = 'y'\n",
    "cat_names = X_train.select_dtypes(exclude='number').columns.tolist()\n",
    "cont_names = X_train.select_dtypes('number').columns.tolist()\n",
    "procs = [FillMissing, Categorify, Normalize] \n",
    "\n",
    "test = TabularList.from_df(X_test, \n",
    "                           cat_names=cat_names, \n",
    "                           cont_names=cont_names)\n",
    "\n",
    "data = (TabularList.from_df(train, \n",
    "                            cat_names=cat_names, \n",
    "                            cont_names=cont_names, \n",
    "                            procs=procs)\n",
    "                           .split_by_idx(list(range(50000,59400)))\n",
    "                           .label_from_df(cols=dep_var)\n",
    "                           .add_test(test)\n",
    "                           .databunch())"
   ]
  },
  {
   "cell_type": "code",
   "execution_count": 13,
   "metadata": {},
   "outputs": [
    {
     "data": {
      "text/plain": [
       "{'funder': 50,\n",
       " 'installer': 50,\n",
       " 'wpt_name': 18,\n",
       " 'basin': 4,\n",
       " 'subvillage': 30,\n",
       " 'region': 10,\n",
       " 'district_code': 9,\n",
       " 'lga': 50,\n",
       " 'ward': 50,\n",
       " 'public_meeting': 1,\n",
       " 'scheme_management': 6,\n",
       " 'scheme_name': 43,\n",
       " 'permit': 1,\n",
       " 'extraction_type': 8,\n",
       " 'management': 6,\n",
       " 'management_group': 2,\n",
       " 'payment': 3,\n",
       " 'water_quality': 3,\n",
       " 'quantity': 2,\n",
       " 'source': 5,\n",
       " 'source_class': 1,\n",
       " 'waterpoint_type': 3,\n",
       " 'num_private_na': 1}"
      ]
     },
     "execution_count": 13,
     "metadata": {},
     "output_type": "execute_result"
    }
   ],
   "source": [
    "categories = X_train_processed[cat_names].nunique().keys().to_list()\n",
    "cardinalities = X_train_processed[cat_names].nunique().values\n",
    "emb_szs = {cat: min(50, card//2) for cat, card in zip(categories, cardinalities)}\n",
    "emb_szs"
   ]
  },
  {
   "cell_type": "code",
   "execution_count": 14,
   "metadata": {},
   "outputs": [],
   "source": [
    "train = X_train.copy()\n",
    "train['y'] = y_train['status_group']"
   ]
  },
  {
   "cell_type": "code",
   "execution_count": 47,
   "metadata": {},
   "outputs": [
    {
     "data": {
      "text/plain": [
       "TabularModel(\n",
       "  (embeds): ModuleList(\n",
       "    (0): Embedding(143, 50)\n",
       "    (1): Embedding(126, 50)\n",
       "    (2): Embedding(36, 18)\n",
       "    (3): Embedding(10, 4)\n",
       "    (4): Embedding(61, 30)\n",
       "    (5): Embedding(22, 10)\n",
       "    (6): Embedding(18, 9)\n",
       "    (7): Embedding(124, 50)\n",
       "    (8): Embedding(309, 50)\n",
       "    (9): Embedding(3, 1)\n",
       "    (10): Embedding(12, 6)\n",
       "    (11): Embedding(87, 43)\n",
       "    (12): Embedding(3, 1)\n",
       "    (13): Embedding(16, 8)\n",
       "    (14): Embedding(12, 6)\n",
       "    (15): Embedding(5, 2)\n",
       "    (16): Embedding(7, 3)\n",
       "    (17): Embedding(7, 3)\n",
       "    (18): Embedding(5, 2)\n",
       "    (19): Embedding(10, 5)\n",
       "    (20): Embedding(3, 1)\n",
       "    (21): Embedding(7, 3)\n",
       "    (22): Embedding(3, 1)\n",
       "  )\n",
       "  (emb_drop): Dropout(p=0.04)\n",
       "  (bn_cont): BatchNorm1d(9, eps=1e-05, momentum=0.1, affine=True, track_running_stats=True)\n",
       "  (layers): Sequential(\n",
       "    (0): Linear(in_features=365, out_features=1000, bias=True)\n",
       "    (1): ReLU(inplace)\n",
       "    (2): BatchNorm1d(1000, eps=1e-05, momentum=0.1, affine=True, track_running_stats=True)\n",
       "    (3): Dropout(p=0.001)\n",
       "    (4): Linear(in_features=1000, out_features=500, bias=True)\n",
       "    (5): ReLU(inplace)\n",
       "    (6): BatchNorm1d(500, eps=1e-05, momentum=0.1, affine=True, track_running_stats=True)\n",
       "    (7): Dropout(p=0.01)\n",
       "    (8): Linear(in_features=500, out_features=3, bias=True)\n",
       "  )\n",
       ")"
      ]
     },
     "execution_count": 47,
     "metadata": {},
     "output_type": "execute_result"
    }
   ],
   "source": [
    "learn = tabular_learner(data, emb_szs=emb_szs, layers=[1000,500], \n",
    "                        ps=[0.001,0.01], metrics=accuracy, emb_drop=0.04)\n",
    "learn.model"
   ]
  },
  {
   "cell_type": "code",
   "execution_count": 48,
   "metadata": {},
   "outputs": [],
   "source": [
    "learn.save('1000-500-fresh')"
   ]
  },
  {
   "cell_type": "code",
   "execution_count": 28,
   "metadata": {},
   "outputs": [
    {
     "data": {
      "text/html": [],
      "text/plain": [
       "<IPython.core.display.HTML object>"
      ]
     },
     "metadata": {},
     "output_type": "display_data"
    },
    {
     "name": "stdout",
     "output_type": "stream",
     "text": [
      "LR Finder is complete, type {learner_name}.recorder.plot() to see the graph.\n"
     ]
    },
    {
     "data": {
      "image/png": "[encoded data removed]",
      "text/plain": [
       "<Figure size 432x288 with 1 Axes>"
      ]
     },
     "metadata": {},
     "output_type": "display_data"
    }
   ],
   "source": [
    "learn.lr_find()\n",
    "learn.recorder.plot()"
   ]
  },
  {
   "cell_type": "code",
   "execution_count": 29,
   "metadata": {},
   "outputs": [
    {
     "data": {
      "text/html": [
       "<table border=\"1\" class=\"dataframe\">\n",
       "  <thead>\n",
       "    <tr style=\"text-align: left;\">\n",
       "      <th>epoch</th>\n",
       "      <th>train_loss</th>\n",
       "      <th>valid_loss</th>\n",
       "      <th>accuracy</th>\n",
       "      <th>time</th>\n",
       "    </tr>\n",
       "  </thead>\n",
       "  <tbody>\n",
       "    <tr>\n",
       "      <td>0</td>\n",
       "      <td>0.603100</td>\n",
       "      <td>0.598857</td>\n",
       "      <td>0.754468</td>\n",
       "      <td>00:10</td>\n",
       "    </tr>\n",
       "    <tr>\n",
       "      <td>1</td>\n",
       "      <td>0.596605</td>\n",
       "      <td>0.583666</td>\n",
       "      <td>0.757340</td>\n",
       "      <td>00:11</td>\n",
       "    </tr>\n",
       "    <tr>\n",
       "      <td>2</td>\n",
       "      <td>0.574523</td>\n",
       "      <td>0.560102</td>\n",
       "      <td>0.773936</td>\n",
       "      <td>00:11</td>\n",
       "    </tr>\n",
       "    <tr>\n",
       "      <td>3</td>\n",
       "      <td>0.559919</td>\n",
       "      <td>0.546155</td>\n",
       "      <td>0.778192</td>\n",
       "      <td>00:11</td>\n",
       "    </tr>\n",
       "    <tr>\n",
       "      <td>4</td>\n",
       "      <td>0.536715</td>\n",
       "      <td>0.538945</td>\n",
       "      <td>0.782979</td>\n",
       "      <td>00:10</td>\n",
       "    </tr>\n",
       "    <tr>\n",
       "      <td>5</td>\n",
       "      <td>0.510305</td>\n",
       "      <td>0.576241</td>\n",
       "      <td>0.780745</td>\n",
       "      <td>00:11</td>\n",
       "    </tr>\n",
       "    <tr>\n",
       "      <td>6</td>\n",
       "      <td>0.488233</td>\n",
       "      <td>0.560490</td>\n",
       "      <td>0.790426</td>\n",
       "      <td>00:11</td>\n",
       "    </tr>\n",
       "    <tr>\n",
       "      <td>7</td>\n",
       "      <td>0.469493</td>\n",
       "      <td>0.540226</td>\n",
       "      <td>0.795000</td>\n",
       "      <td>00:11</td>\n",
       "    </tr>\n",
       "    <tr>\n",
       "      <td>8</td>\n",
       "      <td>0.445577</td>\n",
       "      <td>0.537415</td>\n",
       "      <td>0.796915</td>\n",
       "      <td>00:11</td>\n",
       "    </tr>\n",
       "    <tr>\n",
       "      <td>9</td>\n",
       "      <td>0.423417</td>\n",
       "      <td>0.525479</td>\n",
       "      <td>0.796702</td>\n",
       "      <td>00:11</td>\n",
       "    </tr>\n",
       "  </tbody>\n",
       "</table>"
      ],
      "text/plain": [
       "<IPython.core.display.HTML object>"
      ]
     },
     "metadata": {},
     "output_type": "display_data"
    }
   ],
   "source": [
    "learn.fit_one_cycle(10, max_lr=1e-2) # Steepest point on the downward slope"
   ]
  },
  {
   "cell_type": "code",
   "execution_count": 30,
   "metadata": {},
   "outputs": [
    {
     "data": {
      "image/png": "[encoded data removed]",
      "text/plain": [
       "<Figure size 432x288 with 1 Axes>"
      ]
     },
     "metadata": {},
     "output_type": "display_data"
    }
   ],
   "source": [
    "learn.recorder.plot_losses()"
   ]
  },
  {
   "cell_type": "code",
   "execution_count": 49,
   "metadata": {},
   "outputs": [
    {
     "data": {
      "text/html": [
       "<table border=\"1\" class=\"dataframe\">\n",
       "  <thead>\n",
       "    <tr style=\"text-align: left;\">\n",
       "      <th>epoch</th>\n",
       "      <th>train_loss</th>\n",
       "      <th>valid_loss</th>\n",
       "      <th>accuracy</th>\n",
       "      <th>time</th>\n",
       "    </tr>\n",
       "  </thead>\n",
       "  <tbody>\n",
       "    <tr>\n",
       "      <td>0</td>\n",
       "      <td>0.629175</td>\n",
       "      <td>0.614797</td>\n",
       "      <td>0.739787</td>\n",
       "      <td>00:11</td>\n",
       "    </tr>\n",
       "    <tr>\n",
       "      <td>1</td>\n",
       "      <td>0.582500</td>\n",
       "      <td>0.555476</td>\n",
       "      <td>0.771489</td>\n",
       "      <td>00:11</td>\n",
       "    </tr>\n",
       "    <tr>\n",
       "      <td>2</td>\n",
       "      <td>0.545684</td>\n",
       "      <td>0.537219</td>\n",
       "      <td>0.779468</td>\n",
       "      <td>00:11</td>\n",
       "    </tr>\n",
       "    <tr>\n",
       "      <td>3</td>\n",
       "      <td>0.517010</td>\n",
       "      <td>0.519902</td>\n",
       "      <td>0.789894</td>\n",
       "      <td>00:11</td>\n",
       "    </tr>\n",
       "    <tr>\n",
       "      <td>4</td>\n",
       "      <td>0.480589</td>\n",
       "      <td>0.518854</td>\n",
       "      <td>0.788191</td>\n",
       "      <td>00:11</td>\n",
       "    </tr>\n",
       "  </tbody>\n",
       "</table>"
      ],
      "text/plain": [
       "<IPython.core.display.HTML object>"
      ]
     },
     "metadata": {},
     "output_type": "display_data"
    }
   ],
   "source": [
    "learn.load('1000-500-fresh')\n",
    "learn.fit_one_cycle(5, max_lr=1e-2) # Steepest point on the downward slope\n",
    "learn.save('1000-500-5cycles')"
   ]
  },
  {
   "cell_type": "code",
   "execution_count": 50,
   "metadata": {},
   "outputs": [
    {
     "data": {
      "image/png": "[encoded data removed]",
      "text/plain": [
       "<Figure size 432x288 with 1 Axes>"
      ]
     },
     "metadata": {},
     "output_type": "display_data"
    }
   ],
   "source": [
    "learn.recorder.plot_losses()"
   ]
  },
  {
   "cell_type": "code",
   "execution_count": 52,
   "metadata": {},
   "outputs": [
    {
     "data": {
      "text/html": [
       "<table border=\"1\" class=\"dataframe\">\n",
       "  <thead>\n",
       "    <tr style=\"text-align: left;\">\n",
       "      <th>epoch</th>\n",
       "      <th>train_loss</th>\n",
       "      <th>valid_loss</th>\n",
       "      <th>accuracy</th>\n",
       "      <th>time</th>\n",
       "    </tr>\n",
       "  </thead>\n",
       "  <tbody>\n",
       "    <tr>\n",
       "      <td>0</td>\n",
       "      <td>0.535637</td>\n",
       "      <td>0.538864</td>\n",
       "      <td>0.784362</td>\n",
       "      <td>00:11</td>\n",
       "    </tr>\n",
       "    <tr>\n",
       "      <td>1</td>\n",
       "      <td>0.519382</td>\n",
       "      <td>0.524623</td>\n",
       "      <td>0.787553</td>\n",
       "      <td>00:11</td>\n",
       "    </tr>\n",
       "    <tr>\n",
       "      <td>2</td>\n",
       "      <td>0.483919</td>\n",
       "      <td>0.513784</td>\n",
       "      <td>0.792447</td>\n",
       "      <td>00:11</td>\n",
       "    </tr>\n",
       "  </tbody>\n",
       "</table>"
      ],
      "text/plain": [
       "<IPython.core.display.HTML object>"
      ]
     },
     "metadata": {},
     "output_type": "display_data"
    }
   ],
   "source": [
    "learn.fit_one_cycle(3, max_lr=1e-2) # Steepest point on the downward slope"
   ]
  },
  {
   "cell_type": "code",
   "execution_count": 53,
   "metadata": {},
   "outputs": [
    {
     "data": {
      "image/png": "[encoded data removed]",
      "text/plain": [
       "<Figure size 432x288 with 1 Axes>"
      ]
     },
     "metadata": {},
     "output_type": "display_data"
    }
   ],
   "source": [
    "learn.recorder.plot_losses()"
   ]
  },
  {
   "cell_type": "code",
   "execution_count": null,
   "metadata": {},
   "outputs": [],
   "source": [
    "learn.save('1000-500-8cycles')"
   ]
  },
  {
   "cell_type": "markdown",
   "metadata": {},
   "source": [
    "# Export"
   ]
  },
  {
   "cell_type": "code",
   "execution_count": null,
   "metadata": {},
   "outputs": [],
   "source": [
    "# Export answers\n",
    "test_preds=learn.get_preds(DatasetType.Test)\n",
    "pred_numerical = [np.argmax(x).item() for x in test_preds[0]]\n",
    "y_test = [learn.data.classes[x] for x in pred_numerical]\n",
    "\n",
    "submission = pd.read_csv(data_path + 'sample_submission.csv')\n",
    "submission['status_group'] = y_test\n",
    "\n",
    "# submission.to_csv('answers2.csv', index=False)"
   ]
  }
 ],
 "metadata": {
  "kernelspec": {
   "display_name": "Python 3",
   "language": "python",
   "name": "fastai"
  },
  "language_info": {
   "codemirror_mode": {
    "name": "ipython",
    "version": 3
   },
   "file_extension": ".py",
   "mimetype": "text/x-python",
   "name": "python",
   "nbconvert_exporter": "python",
   "pygments_lexer": "ipython3",
   "version": "3.6.5"
  }
 },
 "nbformat": 4,
 "nbformat_minor": 2
}
